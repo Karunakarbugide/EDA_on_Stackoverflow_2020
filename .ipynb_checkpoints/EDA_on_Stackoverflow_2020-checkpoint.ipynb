{
 "cells": [
  {
   "cell_type": "markdown",
   "id": "95931e9c",
   "metadata": {},
   "source": [
    "# Exploratory Data Analysis using Python - A Case Study\n",
    "\n",
    "*Analyzing responses from tye Stack Overflow Annaul Developer Survey 2020*"
   ]
  },
  {
   "cell_type": "markdown",
   "id": "42c83cc2",
   "metadata": {},
   "source": [
    "# Introduction\n",
    "\n",
    "we'll analyze the StackOverflow developer survey dataset. The dataset contains responses to an annual survey conducted by StackOverflow. You can find the raw data & official analysis here: https://insights.stackoverflow.com/survey.\n",
    "\n",
    "\n",
    "**Business Understanding**: The objective is to understand common languages coders need while comparing happiness or unhappiness of the worker in use of their code. Happiness is important for many reasons: \n",
    "\n",
    "**Data Understanding**: Will utilize Stack Overflow Developer Survey Results, primarly survey_results_public.csv. I have propsed 3 questions that will be asked below to better understand the data.\n",
    "\n",
    "**Prepare Data**: Only need to keep and condense necessry columns for a dataframe plus handle use of NaN values.\n",
    "\n",
    "**Data Modeling**: Will utlize tables and graphs.\n",
    "\n",
    "**Evaluate the Results**: Results will be noted in this notebook but also in the blog post.\n"
   ]
  },
  {
   "cell_type": "code",
   "execution_count": 3,
   "id": "69dc053e",
   "metadata": {},
   "outputs": [],
   "source": [
    "#to handel datasets\n",
    "import pandas as pd\n",
    "import numpy as np\n",
    "from collections import Counter\n",
    "\n",
    "#to visualise all the columns in the dataframe\n",
    "pd.pandas.set_option('display.max_columns', None)\n",
    "\n",
    "# for plotting graphs\n",
    "import matplotlib.pyplot as plt\n",
    "import seaborn as sns\n",
    "\n",
    "#to change plot styles \n",
    "sns.set(style=\"darkgrid\")\n",
    "\n",
    "#to ingnore warnings\n",
    "import warnings\n",
    "warnings.filterwarnings(\"ignore\")\n"
   ]
  },
  {
   "cell_type": "code",
   "execution_count": 5,
   "id": "0d9a44e6",
   "metadata": {},
   "outputs": [],
   "source": [
    "pd.set_option('display.max_columns', None)\n",
    "survey_raw_df = pd.read_csv( \"survey_results_public.csv\") # import data survey data\n",
    "schema_df = pd.read_csv(\"survey_results_schema.csv\")      #import metadata"
   ]
  },
  {
   "cell_type": "code",
   "execution_count": 15,
   "id": "43eefbb0",
   "metadata": {},
   "outputs": [
    {
     "data": {
      "text/html": [
       "<div>\n",
       "<style scoped>\n",
       "    .dataframe tbody tr th:only-of-type {\n",
       "        vertical-align: middle;\n",
       "    }\n",
       "\n",
       "    .dataframe tbody tr th {\n",
       "        vertical-align: top;\n",
       "    }\n",
       "\n",
       "    .dataframe thead th {\n",
       "        text-align: right;\n",
       "    }\n",
       "</style>\n",
       "<table border=\"1\" class=\"dataframe\">\n",
       "  <thead>\n",
       "    <tr style=\"text-align: right;\">\n",
       "      <th></th>\n",
       "      <th>Column</th>\n",
       "      <th>QuestionText</th>\n",
       "    </tr>\n",
       "  </thead>\n",
       "  <tbody>\n",
       "    <tr>\n",
       "      <th>0</th>\n",
       "      <td>Respondent</td>\n",
       "      <td>Randomized respondent ID number (not in order ...</td>\n",
       "    </tr>\n",
       "    <tr>\n",
       "      <th>1</th>\n",
       "      <td>MainBranch</td>\n",
       "      <td>Which of the following options best describes ...</td>\n",
       "    </tr>\n",
       "    <tr>\n",
       "      <th>2</th>\n",
       "      <td>Hobbyist</td>\n",
       "      <td>Do you code as a hobby?</td>\n",
       "    </tr>\n",
       "    <tr>\n",
       "      <th>3</th>\n",
       "      <td>Age</td>\n",
       "      <td>What is your age (in years)? If you prefer not...</td>\n",
       "    </tr>\n",
       "    <tr>\n",
       "      <th>4</th>\n",
       "      <td>Age1stCode</td>\n",
       "      <td>At what age did you write your first line of c...</td>\n",
       "    </tr>\n",
       "    <tr>\n",
       "      <th>...</th>\n",
       "      <td>...</td>\n",
       "      <td>...</td>\n",
       "    </tr>\n",
       "    <tr>\n",
       "      <th>56</th>\n",
       "      <td>WebframeWorkedWith</td>\n",
       "      <td>Which web frameworks have you done extensive d...</td>\n",
       "    </tr>\n",
       "    <tr>\n",
       "      <th>57</th>\n",
       "      <td>WelcomeChange</td>\n",
       "      <td>Compared to last year, how welcome do you feel...</td>\n",
       "    </tr>\n",
       "    <tr>\n",
       "      <th>58</th>\n",
       "      <td>WorkWeekHrs</td>\n",
       "      <td>On average, how many hours per week do you wor...</td>\n",
       "    </tr>\n",
       "    <tr>\n",
       "      <th>59</th>\n",
       "      <td>YearsCode</td>\n",
       "      <td>Including any education, how many years have y...</td>\n",
       "    </tr>\n",
       "    <tr>\n",
       "      <th>60</th>\n",
       "      <td>YearsCodePro</td>\n",
       "      <td>NOT including education, how many years have y...</td>\n",
       "    </tr>\n",
       "  </tbody>\n",
       "</table>\n",
       "<p>61 rows × 2 columns</p>\n",
       "</div>"
      ],
      "text/plain": [
       "                Column                                       QuestionText\n",
       "0           Respondent  Randomized respondent ID number (not in order ...\n",
       "1           MainBranch  Which of the following options best describes ...\n",
       "2             Hobbyist                            Do you code as a hobby?\n",
       "3                  Age  What is your age (in years)? If you prefer not...\n",
       "4           Age1stCode  At what age did you write your first line of c...\n",
       "..                 ...                                                ...\n",
       "56  WebframeWorkedWith  Which web frameworks have you done extensive d...\n",
       "57       WelcomeChange  Compared to last year, how welcome do you feel...\n",
       "58         WorkWeekHrs  On average, how many hours per week do you wor...\n",
       "59           YearsCode  Including any education, how many years have y...\n",
       "60        YearsCodePro  NOT including education, how many years have y...\n",
       "\n",
       "[61 rows x 2 columns]"
      ]
     },
     "execution_count": 15,
     "metadata": {},
     "output_type": "execute_result"
    }
   ],
   "source": [
    "schema_df"
   ]
  },
  {
   "cell_type": "code",
   "execution_count": 9,
   "id": "c8f84e44",
   "metadata": {},
   "outputs": [
    {
     "name": "stdout",
     "output_type": "stream",
     "text": [
      "<class 'pandas.core.frame.DataFrame'>\n",
      "RangeIndex: 64461 entries, 0 to 64460\n",
      "Data columns (total 61 columns):\n",
      " #   Column                        Non-Null Count  Dtype  \n",
      "---  ------                        --------------  -----  \n",
      " 0   Respondent                    64461 non-null  int64  \n",
      " 1   MainBranch                    64162 non-null  object \n",
      " 2   Hobbyist                      64416 non-null  object \n",
      " 3   Age                           45446 non-null  float64\n",
      " 4   Age1stCode                    57900 non-null  object \n",
      " 5   CompFreq                      40069 non-null  object \n",
      " 6   CompTotal                     34826 non-null  float64\n",
      " 7   ConvertedComp                 34756 non-null  float64\n",
      " 8   Country                       64072 non-null  object \n",
      " 9   CurrencyDesc                  45472 non-null  object \n",
      " 10  CurrencySymbol                45472 non-null  object \n",
      " 11  DatabaseDesireNextYear        44070 non-null  object \n",
      " 12  DatabaseWorkedWith            49537 non-null  object \n",
      " 13  DevType                       49370 non-null  object \n",
      " 14  EdLevel                       57431 non-null  object \n",
      " 15  Employment                    63854 non-null  object \n",
      " 16  Ethnicity                     45948 non-null  object \n",
      " 17  Gender                        50557 non-null  object \n",
      " 18  JobFactors                    49349 non-null  object \n",
      " 19  JobSat                        45194 non-null  object \n",
      " 20  JobSeek                       51727 non-null  object \n",
      " 21  LanguageDesireNextYear        54113 non-null  object \n",
      " 22  LanguageWorkedWith            57378 non-null  object \n",
      " 23  MiscTechDesireNextYear        42379 non-null  object \n",
      " 24  MiscTechWorkedWith            40314 non-null  object \n",
      " 25  NEWCollabToolsDesireNextYear  47287 non-null  object \n",
      " 26  NEWCollabToolsWorkedWith      52883 non-null  object \n",
      " 27  NEWDevOps                     42686 non-null  object \n",
      " 28  NEWDevOpsImpt                 41732 non-null  object \n",
      " 29  NEWEdImpt                     48465 non-null  object \n",
      " 30  NEWJobHunt                    42286 non-null  object \n",
      " 31  NEWJobHuntResearch            41022 non-null  object \n",
      " 32  NEWLearn                      56156 non-null  object \n",
      " 33  NEWOffTopic                   50804 non-null  object \n",
      " 34  NEWOnboardGood                42623 non-null  object \n",
      " 35  NEWOtherComms                 57205 non-null  object \n",
      " 36  NEWOvertime                   43231 non-null  object \n",
      " 37  NEWPurchaseResearch           37321 non-null  object \n",
      " 38  NEWPurpleLink                 54803 non-null  object \n",
      " 39  NEWSOSites                    58275 non-null  object \n",
      " 40  NEWStuck                      54983 non-null  object \n",
      " 41  OpSys                         56228 non-null  object \n",
      " 42  OrgSize                       44334 non-null  object \n",
      " 43  PlatformDesireNextYear        50605 non-null  object \n",
      " 44  PlatformWorkedWith            53843 non-null  object \n",
      " 45  PurchaseWhat                  39364 non-null  object \n",
      " 46  Sexuality                     43992 non-null  object \n",
      " 47  SOAccount                     56805 non-null  object \n",
      " 48  SOComm                        56476 non-null  object \n",
      " 49  SOPartFreq                    46792 non-null  object \n",
      " 50  SOVisitFreq                   56970 non-null  object \n",
      " 51  SurveyEase                    51802 non-null  object \n",
      " 52  SurveyLength                  51701 non-null  object \n",
      " 53  Trans                         49345 non-null  object \n",
      " 54  UndergradMajor                50995 non-null  object \n",
      " 55  WebframeDesireNextYear        40024 non-null  object \n",
      " 56  WebframeWorkedWith            42279 non-null  object \n",
      " 57  WelcomeChange                 52683 non-null  object \n",
      " 58  WorkWeekHrs                   41151 non-null  float64\n",
      " 59  YearsCode                     57684 non-null  object \n",
      " 60  YearsCodePro                  46349 non-null  object \n",
      "dtypes: float64(4), int64(1), object(56)\n",
      "memory usage: 30.0+ MB\n"
     ]
    }
   ],
   "source": [
    "survey_raw_df.info()"
   ]
  },
  {
   "cell_type": "markdown",
   "id": "f8603f3a",
   "metadata": {},
   "source": [
    "There totoal **64461** people responded for the survey for 61 datapoints each data point decription can be referred from schame file.  not all the datapoints filled in the survey lets caculate missing value percentage in each datapoint."
   ]
  },
  {
   "cell_type": "code",
   "execution_count": 12,
   "id": "6517d6e0",
   "metadata": {},
   "outputs": [
    {
     "data": {
      "text/plain": [
       "Index(['Respondent', 'MainBranch', 'Hobbyist', 'Age', 'Age1stCode', 'CompFreq',\n",
       "       'CompTotal', 'ConvertedComp', 'Country', 'CurrencyDesc',\n",
       "       'CurrencySymbol', 'DatabaseDesireNextYear', 'DatabaseWorkedWith',\n",
       "       'DevType', 'EdLevel', 'Employment', 'Ethnicity', 'Gender', 'JobFactors',\n",
       "       'JobSat', 'JobSeek', 'LanguageDesireNextYear', 'LanguageWorkedWith',\n",
       "       'MiscTechDesireNextYear', 'MiscTechWorkedWith',\n",
       "       'NEWCollabToolsDesireNextYear', 'NEWCollabToolsWorkedWith', 'NEWDevOps',\n",
       "       'NEWDevOpsImpt', 'NEWEdImpt', 'NEWJobHunt', 'NEWJobHuntResearch',\n",
       "       'NEWLearn', 'NEWOffTopic', 'NEWOnboardGood', 'NEWOtherComms',\n",
       "       'NEWOvertime', 'NEWPurchaseResearch', 'NEWPurpleLink', 'NEWSOSites',\n",
       "       'NEWStuck', 'OpSys', 'OrgSize', 'PlatformDesireNextYear',\n",
       "       'PlatformWorkedWith', 'PurchaseWhat', 'Sexuality', 'SOAccount',\n",
       "       'SOComm', 'SOPartFreq', 'SOVisitFreq', 'SurveyEase', 'SurveyLength',\n",
       "       'Trans', 'UndergradMajor', 'WebframeDesireNextYear',\n",
       "       'WebframeWorkedWith', 'WelcomeChange', 'WorkWeekHrs', 'YearsCode',\n",
       "       'YearsCodePro'],\n",
       "      dtype='object')"
      ]
     },
     "execution_count": 12,
     "metadata": {},
     "output_type": "execute_result"
    }
   ],
   "source": [
    "survey_raw_df.columns"
   ]
  },
  {
   "cell_type": "code",
   "execution_count": 20,
   "id": "baaaeacf",
   "metadata": {},
   "outputs": [],
   "source": [
    "cat_list  = survey_raw_df.columns.to_list()\n",
    "#for cat in cat_list:\n",
    " #   print(cat)"
   ]
  },
  {
   "cell_type": "code",
   "execution_count": 32,
   "id": "782bf47e",
   "metadata": {},
   "outputs": [
    {
     "data": {
      "text/plain": [
       "0"
      ]
     },
     "execution_count": 32,
     "metadata": {},
     "output_type": "execute_result"
    }
   ],
   "source": [
    "#survey_raw_df['Respondent'].count()\n",
    "survey_raw_df['Respondent'].isna().sum()"
   ]
  },
  {
   "cell_type": "code",
   "execution_count": 47,
   "id": "670d9e55",
   "metadata": {},
   "outputs": [],
   "source": [
    "def null_value_count(column_list): #drop if the columns if missing values are more than 30%\n",
    "    for name in column_list:\n",
    "        missing_value = survey_raw_df[name].isna().sum()\n",
    "        \n",
    "        print(missing_value)   \n",
    "null_value_count(cat_list)    "
   ]
  },
  {
   "cell_type": "markdown",
   "id": "0a99592a",
   "metadata": {},
   "source": [
    "# Question 1: What are the most common coding languages? What are the least common coding languages? "
   ]
  },
  {
   "cell_type": "code",
   "execution_count": 67,
   "id": "5353b74b",
   "metadata": {},
   "outputs": [
    {
     "data": {
      "text/html": [
       "<div>\n",
       "<style scoped>\n",
       "    .dataframe tbody tr th:only-of-type {\n",
       "        vertical-align: middle;\n",
       "    }\n",
       "\n",
       "    .dataframe tbody tr th {\n",
       "        vertical-align: top;\n",
       "    }\n",
       "\n",
       "    .dataframe thead th {\n",
       "        text-align: right;\n",
       "    }\n",
       "</style>\n",
       "<table border=\"1\" class=\"dataframe\">\n",
       "  <thead>\n",
       "    <tr style=\"text-align: right;\">\n",
       "      <th></th>\n",
       "      <th>Employment</th>\n",
       "      <th>YearsCode</th>\n",
       "      <th>LanguageWorkedWith</th>\n",
       "      <th>DevType</th>\n",
       "    </tr>\n",
       "  </thead>\n",
       "  <tbody>\n",
       "    <tr>\n",
       "      <th>45200</th>\n",
       "      <td>Employed full-time</td>\n",
       "      <td>More than 50 years</td>\n",
       "      <td>Assembly;Bash/Shell/PowerShell;C;C#;C++;Dart;G...</td>\n",
       "      <td>Data scientist or machine learning specialist</td>\n",
       "    </tr>\n",
       "    <tr>\n",
       "      <th>45753</th>\n",
       "      <td>Employed full-time</td>\n",
       "      <td>More than 50 years</td>\n",
       "      <td>Assembly;Bash/Shell/PowerShell;C;C#;C++;Dart;G...</td>\n",
       "      <td>Academic researcher;Data or business analyst;D...</td>\n",
       "    </tr>\n",
       "    <tr>\n",
       "      <th>50908</th>\n",
       "      <td>Employed full-time</td>\n",
       "      <td>More than 50 years</td>\n",
       "      <td>Bash/Shell/PowerShell;C;Python</td>\n",
       "      <td>NaN</td>\n",
       "    </tr>\n",
       "    <tr>\n",
       "      <th>26962</th>\n",
       "      <td>Employed full-time</td>\n",
       "      <td>More than 50 years</td>\n",
       "      <td>Bash/Shell/PowerShell;C;HTML/CSS;Java;JavaScri...</td>\n",
       "      <td>Academic researcher;Data or business analyst;D...</td>\n",
       "    </tr>\n",
       "    <tr>\n",
       "      <th>63993</th>\n",
       "      <td>Employed full-time</td>\n",
       "      <td>More than 50 years</td>\n",
       "      <td>NaN</td>\n",
       "      <td>NaN</td>\n",
       "    </tr>\n",
       "    <tr>\n",
       "      <th>1851</th>\n",
       "      <td>Employed full-time</td>\n",
       "      <td>More than 50 years</td>\n",
       "      <td>Assembly;Bash/Shell/PowerShell;C;C++;Go;HTML/C...</td>\n",
       "      <td>Academic researcher</td>\n",
       "    </tr>\n",
       "    <tr>\n",
       "      <th>1867</th>\n",
       "      <td>Employed full-time</td>\n",
       "      <td>More than 50 years</td>\n",
       "      <td>Bash/Shell/PowerShell;Java;SQL</td>\n",
       "      <td>Developer, back-end;Developer, desktop or ente...</td>\n",
       "    </tr>\n",
       "    <tr>\n",
       "      <th>34502</th>\n",
       "      <td>Employed full-time</td>\n",
       "      <td>More than 50 years</td>\n",
       "      <td>Bash/Shell/PowerShell;C;C++;HTML/CSS;Java;Java...</td>\n",
       "      <td>Developer, desktop or enterprise applications;...</td>\n",
       "    </tr>\n",
       "    <tr>\n",
       "      <th>34551</th>\n",
       "      <td>Employed full-time</td>\n",
       "      <td>More than 50 years</td>\n",
       "      <td>Bash/Shell/PowerShell;C;C++;HTML/CSS;Python</td>\n",
       "      <td>Developer, embedded applications or devices</td>\n",
       "    </tr>\n",
       "    <tr>\n",
       "      <th>4557</th>\n",
       "      <td>Employed full-time</td>\n",
       "      <td>More than 50 years</td>\n",
       "      <td>Bash/Shell/PowerShell;C;C++;Java;Python;Rust</td>\n",
       "      <td>Developer, back-end;Developer, embedded applic...</td>\n",
       "    </tr>\n",
       "    <tr>\n",
       "      <th>5302</th>\n",
       "      <td>Employed full-time</td>\n",
       "      <td>More than 50 years</td>\n",
       "      <td>Assembly;Bash/Shell/PowerShell;C;C++;JavaScrip...</td>\n",
       "      <td>Designer;Developer, back-end</td>\n",
       "    </tr>\n",
       "    <tr>\n",
       "      <th>2625</th>\n",
       "      <td>Employed full-time</td>\n",
       "      <td>More than 50 years</td>\n",
       "      <td>C#;HTML/CSS;JavaScript;SQL;TypeScript</td>\n",
       "      <td>Developer, full-stack</td>\n",
       "    </tr>\n",
       "    <tr>\n",
       "      <th>50152</th>\n",
       "      <td>Employed full-time</td>\n",
       "      <td>More than 50 years</td>\n",
       "      <td>C#;C++;Python</td>\n",
       "      <td>NaN</td>\n",
       "    </tr>\n",
       "    <tr>\n",
       "      <th>45749</th>\n",
       "      <td>Employed full-time</td>\n",
       "      <td>More than 50 years</td>\n",
       "      <td>C#;Java;JavaScript;SQL;VBA</td>\n",
       "      <td>Data or business analyst;Database administrato...</td>\n",
       "    </tr>\n",
       "    <tr>\n",
       "      <th>48615</th>\n",
       "      <td>Employed full-time</td>\n",
       "      <td>More than 50 years</td>\n",
       "      <td>Assembly;C;C#;C++;SQL</td>\n",
       "      <td>Developer, back-end;Developer, desktop or ente...</td>\n",
       "    </tr>\n",
       "    <tr>\n",
       "      <th>45732</th>\n",
       "      <td>Employed full-time</td>\n",
       "      <td>More than 50 years</td>\n",
       "      <td>NaN</td>\n",
       "      <td>NaN</td>\n",
       "    </tr>\n",
       "    <tr>\n",
       "      <th>14033</th>\n",
       "      <td>Employed full-time</td>\n",
       "      <td>More than 50 years</td>\n",
       "      <td>Assembly;C;C#;JavaScript</td>\n",
       "      <td>Designer;Developer, desktop or enterprise appl...</td>\n",
       "    </tr>\n",
       "    <tr>\n",
       "      <th>4855</th>\n",
       "      <td>Employed full-time</td>\n",
       "      <td>More than 50 years</td>\n",
       "      <td>SQL</td>\n",
       "      <td>Designer;Educator;Product manager</td>\n",
       "    </tr>\n",
       "    <tr>\n",
       "      <th>62890</th>\n",
       "      <td>Employed full-time</td>\n",
       "      <td>More than 50 years</td>\n",
       "      <td>NaN</td>\n",
       "      <td>Database administrator;Developer, back-end;Dev...</td>\n",
       "    </tr>\n",
       "    <tr>\n",
       "      <th>48175</th>\n",
       "      <td>Employed full-time</td>\n",
       "      <td>More than 50 years</td>\n",
       "      <td>C;C++</td>\n",
       "      <td>NaN</td>\n",
       "    </tr>\n",
       "  </tbody>\n",
       "</table>\n",
       "</div>"
      ],
      "text/plain": [
       "               Employment           YearsCode  \\\n",
       "45200  Employed full-time  More than 50 years   \n",
       "45753  Employed full-time  More than 50 years   \n",
       "50908  Employed full-time  More than 50 years   \n",
       "26962  Employed full-time  More than 50 years   \n",
       "63993  Employed full-time  More than 50 years   \n",
       "1851   Employed full-time  More than 50 years   \n",
       "1867   Employed full-time  More than 50 years   \n",
       "34502  Employed full-time  More than 50 years   \n",
       "34551  Employed full-time  More than 50 years   \n",
       "4557   Employed full-time  More than 50 years   \n",
       "5302   Employed full-time  More than 50 years   \n",
       "2625   Employed full-time  More than 50 years   \n",
       "50152  Employed full-time  More than 50 years   \n",
       "45749  Employed full-time  More than 50 years   \n",
       "48615  Employed full-time  More than 50 years   \n",
       "45732  Employed full-time  More than 50 years   \n",
       "14033  Employed full-time  More than 50 years   \n",
       "4855   Employed full-time  More than 50 years   \n",
       "62890  Employed full-time  More than 50 years   \n",
       "48175  Employed full-time  More than 50 years   \n",
       "\n",
       "                                      LanguageWorkedWith  \\\n",
       "45200  Assembly;Bash/Shell/PowerShell;C;C#;C++;Dart;G...   \n",
       "45753  Assembly;Bash/Shell/PowerShell;C;C#;C++;Dart;G...   \n",
       "50908                     Bash/Shell/PowerShell;C;Python   \n",
       "26962  Bash/Shell/PowerShell;C;HTML/CSS;Java;JavaScri...   \n",
       "63993                                                NaN   \n",
       "1851   Assembly;Bash/Shell/PowerShell;C;C++;Go;HTML/C...   \n",
       "1867                      Bash/Shell/PowerShell;Java;SQL   \n",
       "34502  Bash/Shell/PowerShell;C;C++;HTML/CSS;Java;Java...   \n",
       "34551        Bash/Shell/PowerShell;C;C++;HTML/CSS;Python   \n",
       "4557        Bash/Shell/PowerShell;C;C++;Java;Python;Rust   \n",
       "5302   Assembly;Bash/Shell/PowerShell;C;C++;JavaScrip...   \n",
       "2625               C#;HTML/CSS;JavaScript;SQL;TypeScript   \n",
       "50152                                      C#;C++;Python   \n",
       "45749                         C#;Java;JavaScript;SQL;VBA   \n",
       "48615                              Assembly;C;C#;C++;SQL   \n",
       "45732                                                NaN   \n",
       "14033                           Assembly;C;C#;JavaScript   \n",
       "4855                                                 SQL   \n",
       "62890                                                NaN   \n",
       "48175                                              C;C++   \n",
       "\n",
       "                                                 DevType  \n",
       "45200      Data scientist or machine learning specialist  \n",
       "45753  Academic researcher;Data or business analyst;D...  \n",
       "50908                                                NaN  \n",
       "26962  Academic researcher;Data or business analyst;D...  \n",
       "63993                                                NaN  \n",
       "1851                                 Academic researcher  \n",
       "1867   Developer, back-end;Developer, desktop or ente...  \n",
       "34502  Developer, desktop or enterprise applications;...  \n",
       "34551        Developer, embedded applications or devices  \n",
       "4557   Developer, back-end;Developer, embedded applic...  \n",
       "5302                        Designer;Developer, back-end  \n",
       "2625                               Developer, full-stack  \n",
       "50152                                                NaN  \n",
       "45749  Data or business analyst;Database administrato...  \n",
       "48615  Developer, back-end;Developer, desktop or ente...  \n",
       "45732                                                NaN  \n",
       "14033  Designer;Developer, desktop or enterprise appl...  \n",
       "4855                   Designer;Educator;Product manager  \n",
       "62890  Database administrator;Developer, back-end;Dev...  \n",
       "48175                                                NaN  "
      ]
     },
     "execution_count": 67,
     "metadata": {},
     "output_type": "execute_result"
    }
   ],
   "source": [
    "q1 = survey_raw_df[['Employment','YearsCode','LanguageWorkedWith','DevType']]\n",
    "\n",
    "q1 = q1[q1.Employment == 'Employed full-time']\n",
    "q1=q1.sort_values(by=['YearsCode'],ascending=False, na_position='last')\n",
    "q1.head(20)"
   ]
  },
  {
   "cell_type": "code",
   "execution_count": 71,
   "id": "a25743a1",
   "metadata": {},
   "outputs": [],
   "source": [
    "#q1.YearsCode.value_counts().sort_values(ascending=False) # convert years wroked to integer \n",
    "#q1.YearsCode.replace('Less than 1 year',1)\n",
    "q1[q1.YearsCode== 'More than 50 years']=q1[q1.YearsCode== 'More than 50 years'].replace(to_replace=['More than 50 years'],value='50')\n",
    "q1[q1.YearsCode== 'Less than 1 year']=q1[q1.YearsCode== 'Less than 1 year'].replace(to_replace=['Less than 1 year'],value='1')"
   ]
  },
  {
   "cell_type": "code",
   "execution_count": 81,
   "id": "bc80d5bb",
   "metadata": {},
   "outputs": [
    {
     "name": "stdout",
     "output_type": "stream",
     "text": [
      "<class 'pandas.core.frame.DataFrame'>\n",
      "Int64Index: 45270 entries, 45200 to 64460\n",
      "Data columns (total 4 columns):\n",
      " #   Column              Non-Null Count  Dtype  \n",
      "---  ------              --------------  -----  \n",
      " 0   Employment          45270 non-null  object \n",
      " 1   YearsCode           40992 non-null  float64\n",
      " 2   LanguageWorkedWith  40529 non-null  object \n",
      " 3   DevType             40419 non-null  object \n",
      "dtypes: float64(1), object(3)\n",
      "memory usage: 1.7+ MB\n"
     ]
    }
   ],
   "source": [
    "q1['YearsCode'] = pd.to_numeric(q1.YearsCode, errors='coerce') # \n",
    "q1.info()"
   ]
  },
  {
   "cell_type": "code",
   "execution_count": 87,
   "id": "43ab0c5e",
   "metadata": {},
   "outputs": [
    {
     "data": {
      "text/plain": [
       "4741"
      ]
     },
     "execution_count": 87,
     "metadata": {},
     "output_type": "execute_result"
    }
   ],
   "source": [
    "q1['LanguageWorkedWith'].isnull().sum() #4741 missing values "
   ]
  },
  {
   "cell_type": "code",
   "execution_count": 91,
   "id": "2d40fc9b",
   "metadata": {},
   "outputs": [],
   "source": [
    "q1['LanguageWorkedWith']=q1['LanguageWorkedWith'].fillna('missing')\n",
    "#replacing Nan values with work missing"
   ]
  },
  {
   "cell_type": "code",
   "execution_count": 151,
   "id": "d8286feb",
   "metadata": {},
   "outputs": [
    {
     "data": {
      "text/plain": [
       "pandas.core.series.Series"
      ]
     },
     "execution_count": 151,
     "metadata": {},
     "output_type": "execute_result"
    }
   ],
   "source": [
    "# creating a function to split  Language WorkedWith \n",
    "def split_lang(df, column):\n",
    "    ''' Split column by ;,\n",
    "        return a splite sereis         \n",
    "    '''\n",
    "    df_copy = df\n",
    "    column_series = df_copy[column].apply(lambda x: x.split(';'))\n",
    "    return  column_series\n",
    "\n",
    "split_list_lang = split_lang (q1,'LanguageWorkedWith')\n",
    "type(split_list_lang)"
   ]
  },
  {
   "cell_type": "code",
   "execution_count": 162,
   "id": "326c40da",
   "metadata": {},
   "outputs": [
    {
     "data": {
      "text/plain": [
       "{'Bash/Shell/PowerShell': 1, 'C': 1, 'Python': 1}"
      ]
     },
     "execution_count": 162,
     "metadata": {},
     "output_type": "execute_result"
    }
   ],
   "source": [
    "dict(Counter(split_list_lang.tolist()[2]))"
   ]
  },
  {
   "cell_type": "code",
   "execution_count": 161,
   "id": "8c1078ae",
   "metadata": {},
   "outputs": [
    {
     "data": {
      "text/plain": [
       "'Assembly'"
      ]
     },
     "execution_count": 161,
     "metadata": {},
     "output_type": "execute_result"
    }
   ],
   "source": [
    "split_list_lang.tolist()[1][0].strip()"
   ]
  },
  {
   "cell_type": "code",
   "execution_count": 164,
   "id": "46f9b3e8",
   "metadata": {},
   "outputs": [
    {
     "data": {
      "text/plain": [
       "list"
      ]
     },
     "execution_count": 164,
     "metadata": {},
     "output_type": "execute_result"
    }
   ],
   "source": [
    "def disarray(array_list):\n",
    "    \n",
    "    list_objects = []\n",
    "    for lst in array_list:\n",
    "        for obj in lst:\n",
    "            list_objects.append(obj.strip())\n",
    "    return list_objects\n",
    "\n",
    "list_worked_lang = disarray(split_list_lang)\n",
    "type(list_worked_lang)"
   ]
  },
  {
   "cell_type": "code",
   "execution_count": 166,
   "id": "7b278c23",
   "metadata": {},
   "outputs": [
    {
     "data": {
      "text/plain": [
       "[{'Programming Language': 'Assembly', 'Count': 1717},\n",
       " {'Programming Language': 'Bash/Shell/PowerShell', 'Count': 14014},\n",
       " {'Programming Language': 'C', 'Count': 6912},\n",
       " {'Programming Language': 'C#', 'Count': 13243},\n",
       " {'Programming Language': 'C++', 'Count': 7888},\n",
       " {'Programming Language': 'Dart', 'Count': 1326},\n",
       " {'Programming Language': 'Go', 'Count': 3793},\n",
       " {'Programming Language': 'Haskell', 'Count': 638},\n",
       " {'Programming Language': 'HTML/CSS', 'Count': 24755},\n",
       " {'Programming Language': 'Java', 'Count': 15461},\n",
       " {'Programming Language': 'JavaScript', 'Count': 27883},\n",
       " {'Programming Language': 'Julia', 'Count': 300},\n",
       " {'Programming Language': 'Kotlin', 'Count': 3141},\n",
       " {'Programming Language': 'Objective-C', 'Count': 1716},\n",
       " {'Programming Language': 'Perl', 'Count': 1328},\n",
       " {'Programming Language': 'PHP', 'Count': 9852},\n",
       " {'Programming Language': 'Python', 'Count': 16568},\n",
       " {'Programming Language': 'R', 'Count': 2119},\n",
       " {'Programming Language': 'Ruby', 'Count': 2996},\n",
       " {'Programming Language': 'Rust', 'Count': 1798},\n",
       " {'Programming Language': 'Scala', 'Count': 1612},\n",
       " {'Programming Language': 'SQL', 'Count': 22910},\n",
       " {'Programming Language': 'Swift', 'Count': 2339},\n",
       " {'Programming Language': 'TypeScript', 'Count': 11424},\n",
       " {'Programming Language': 'VBA', 'Count': 2513},\n",
       " {'Programming Language': 'missing', 'Count': 4741}]"
      ]
     },
     "execution_count": 166,
     "metadata": {},
     "output_type": "execute_result"
    }
   ],
   "source": [
    "\n",
    "def group_list(data_list):\n",
    "    ''' Group by count to a list,\n",
    "        returns a result dict.\n",
    "    '''\n",
    "    \n",
    "    grouped_list = dict(Counter(data_list))\n",
    "    grouped_dict = [{'Programming Language':key, 'Count': value} for key, value in grouped_list.items()]\n",
    "    \n",
    "    return grouped_dict\n",
    "\n",
    "    \n",
    "# Groping a list and creating a dict.\n",
    "dict_worked_languages = group_list(list_worked_lang )\n",
    "dict_worked_languages"
   ]
  },
  {
   "cell_type": "code",
   "execution_count": 167,
   "id": "4ed4f391",
   "metadata": {},
   "outputs": [],
   "source": [
    "language_df = pd.DataFrame(dict_worked_languages)"
   ]
  },
  {
   "cell_type": "code",
   "execution_count": 172,
   "id": "f0e97a54",
   "metadata": {},
   "outputs": [
    {
     "data": {
      "text/html": [
       "<div>\n",
       "<style scoped>\n",
       "    .dataframe tbody tr th:only-of-type {\n",
       "        vertical-align: middle;\n",
       "    }\n",
       "\n",
       "    .dataframe tbody tr th {\n",
       "        vertical-align: top;\n",
       "    }\n",
       "\n",
       "    .dataframe thead th {\n",
       "        text-align: right;\n",
       "    }\n",
       "</style>\n",
       "<table border=\"1\" class=\"dataframe\">\n",
       "  <thead>\n",
       "    <tr style=\"text-align: right;\">\n",
       "      <th></th>\n",
       "      <th>Programming Language</th>\n",
       "      <th>Count</th>\n",
       "    </tr>\n",
       "  </thead>\n",
       "  <tbody>\n",
       "    <tr>\n",
       "      <th>10</th>\n",
       "      <td>JavaScript</td>\n",
       "      <td>27883</td>\n",
       "    </tr>\n",
       "    <tr>\n",
       "      <th>8</th>\n",
       "      <td>HTML/CSS</td>\n",
       "      <td>24755</td>\n",
       "    </tr>\n",
       "    <tr>\n",
       "      <th>21</th>\n",
       "      <td>SQL</td>\n",
       "      <td>22910</td>\n",
       "    </tr>\n",
       "    <tr>\n",
       "      <th>16</th>\n",
       "      <td>Python</td>\n",
       "      <td>16568</td>\n",
       "    </tr>\n",
       "    <tr>\n",
       "      <th>9</th>\n",
       "      <td>Java</td>\n",
       "      <td>15461</td>\n",
       "    </tr>\n",
       "    <tr>\n",
       "      <th>1</th>\n",
       "      <td>Bash/Shell/PowerShell</td>\n",
       "      <td>14014</td>\n",
       "    </tr>\n",
       "    <tr>\n",
       "      <th>3</th>\n",
       "      <td>C#</td>\n",
       "      <td>13243</td>\n",
       "    </tr>\n",
       "    <tr>\n",
       "      <th>23</th>\n",
       "      <td>TypeScript</td>\n",
       "      <td>11424</td>\n",
       "    </tr>\n",
       "    <tr>\n",
       "      <th>15</th>\n",
       "      <td>PHP</td>\n",
       "      <td>9852</td>\n",
       "    </tr>\n",
       "    <tr>\n",
       "      <th>4</th>\n",
       "      <td>C++</td>\n",
       "      <td>7888</td>\n",
       "    </tr>\n",
       "    <tr>\n",
       "      <th>2</th>\n",
       "      <td>C</td>\n",
       "      <td>6912</td>\n",
       "    </tr>\n",
       "    <tr>\n",
       "      <th>25</th>\n",
       "      <td>missing</td>\n",
       "      <td>4741</td>\n",
       "    </tr>\n",
       "    <tr>\n",
       "      <th>6</th>\n",
       "      <td>Go</td>\n",
       "      <td>3793</td>\n",
       "    </tr>\n",
       "    <tr>\n",
       "      <th>12</th>\n",
       "      <td>Kotlin</td>\n",
       "      <td>3141</td>\n",
       "    </tr>\n",
       "    <tr>\n",
       "      <th>18</th>\n",
       "      <td>Ruby</td>\n",
       "      <td>2996</td>\n",
       "    </tr>\n",
       "    <tr>\n",
       "      <th>24</th>\n",
       "      <td>VBA</td>\n",
       "      <td>2513</td>\n",
       "    </tr>\n",
       "    <tr>\n",
       "      <th>22</th>\n",
       "      <td>Swift</td>\n",
       "      <td>2339</td>\n",
       "    </tr>\n",
       "    <tr>\n",
       "      <th>17</th>\n",
       "      <td>R</td>\n",
       "      <td>2119</td>\n",
       "    </tr>\n",
       "    <tr>\n",
       "      <th>19</th>\n",
       "      <td>Rust</td>\n",
       "      <td>1798</td>\n",
       "    </tr>\n",
       "    <tr>\n",
       "      <th>0</th>\n",
       "      <td>Assembly</td>\n",
       "      <td>1717</td>\n",
       "    </tr>\n",
       "    <tr>\n",
       "      <th>13</th>\n",
       "      <td>Objective-C</td>\n",
       "      <td>1716</td>\n",
       "    </tr>\n",
       "    <tr>\n",
       "      <th>20</th>\n",
       "      <td>Scala</td>\n",
       "      <td>1612</td>\n",
       "    </tr>\n",
       "    <tr>\n",
       "      <th>14</th>\n",
       "      <td>Perl</td>\n",
       "      <td>1328</td>\n",
       "    </tr>\n",
       "    <tr>\n",
       "      <th>5</th>\n",
       "      <td>Dart</td>\n",
       "      <td>1326</td>\n",
       "    </tr>\n",
       "    <tr>\n",
       "      <th>7</th>\n",
       "      <td>Haskell</td>\n",
       "      <td>638</td>\n",
       "    </tr>\n",
       "    <tr>\n",
       "      <th>11</th>\n",
       "      <td>Julia</td>\n",
       "      <td>300</td>\n",
       "    </tr>\n",
       "  </tbody>\n",
       "</table>\n",
       "</div>"
      ],
      "text/plain": [
       "     Programming Language  Count\n",
       "10             JavaScript  27883\n",
       "8                HTML/CSS  24755\n",
       "21                    SQL  22910\n",
       "16                 Python  16568\n",
       "9                    Java  15461\n",
       "1   Bash/Shell/PowerShell  14014\n",
       "3                      C#  13243\n",
       "23             TypeScript  11424\n",
       "15                    PHP   9852\n",
       "4                     C++   7888\n",
       "2                       C   6912\n",
       "25                missing   4741\n",
       "6                      Go   3793\n",
       "12                 Kotlin   3141\n",
       "18                   Ruby   2996\n",
       "24                    VBA   2513\n",
       "22                  Swift   2339\n",
       "17                      R   2119\n",
       "19                   Rust   1798\n",
       "0                Assembly   1717\n",
       "13            Objective-C   1716\n",
       "20                  Scala   1612\n",
       "14                   Perl   1328\n",
       "5                    Dart   1326\n",
       "7                 Haskell    638\n",
       "11                  Julia    300"
      ]
     },
     "execution_count": 172,
     "metadata": {},
     "output_type": "execute_result"
    }
   ],
   "source": [
    "language_df.sort_values(by =['Count'], ascending=False)"
   ]
  },
  {
   "cell_type": "code",
   "execution_count": 180,
   "id": "958de5c6",
   "metadata": {},
   "outputs": [
    {
     "data": {
      "text/plain": [
       "202987"
      ]
     },
     "execution_count": 180,
     "metadata": {},
     "output_type": "execute_result"
    }
   ],
   "source": [
    "language_df['percentage'] = language_df['Count'].apply(lambda x: x/language_df['Count'].sum())\n",
    "language_df['Count'].sum()"
   ]
  },
  {
   "cell_type": "code",
   "execution_count": 187,
   "id": "5851d9fe",
   "metadata": {},
   "outputs": [],
   "source": [
    "language_df['percentage']= round(language_df['percentage'],2)\n",
    "top_lang=language_df.sort_values(by =['percentage'], ascending=False).head(10) #top 10 worked languages as of 2020"
   ]
  },
  {
   "cell_type": "code",
   "execution_count": 188,
   "id": "61686933",
   "metadata": {},
   "outputs": [],
   "source": [
    "bottom_lang=language_df.sort_values(by =['percentage'], ascending=True).head(10) #Bottom 10 worked languages as of 2020"
   ]
  },
  {
   "cell_type": "code",
   "execution_count": 251,
   "id": "5468e130",
   "metadata": {},
   "outputs": [
    {
     "data": {
      "image/png": "[encoded data removed]",
      "text/plain": [
       "<Figure size 1008x576 with 1 Axes>"
      ]
     },
     "metadata": {},
     "output_type": "display_data"
    }
   ],
   "source": [
    "plt.figure(figsize=(14,8))\n",
    "\n",
    "sns.barplot( x ='percentage',\n",
    "             y ='Programming Language',\n",
    "             data= top_lang)\n",
    "plt.xlabel(\"Percentage \",fontname=\"Gabriola\", fontsize=18)\n",
    "plt.ylabel(\"Programing Language\" , fontsize=20,fontname=\"Gabriola\")\n",
    "plt.title(\"Top 10 Worked Languages as of 2020\",fontsize=25,fontname='Franklin Gothic Medium')\n",
    "plt.show()"
   ]
  },
  {
   "cell_type": "code",
   "execution_count": 252,
   "id": "2eb23c3f",
   "metadata": {},
   "outputs": [
    {
     "data": {
      "image/png": "[encoded data removed]",
      "text/plain": [
       "<Figure size 1008x576 with 1 Axes>"
      ]
     },
     "metadata": {},
     "output_type": "display_data"
    }
   ],
   "source": [
    "plt.figure(figsize=(14,8))\n",
    "\n",
    "sns.barplot( x ='Count',\n",
    "             y ='Programming Language',\n",
    "             data= bottom_lang)\n",
    "plt.xlabel(\"Count\",fontname=\"Gabriola\", fontsize=18)\n",
    "plt.ylabel(\"Programing Language\", fontsize=20,fontname=\"Gabriola\")\n",
    "plt.title(\"Bottom 10 Worked Languages as of 2020\",fontsize=25,fontname='Franklin Gothic Medium')\n",
    "plt.show()"
   ]
  },
  {
   "cell_type": "markdown",
   "id": "dada0546",
   "metadata": {},
   "source": [
    "# Question 2: What is the job satisfaction with coding?"
   ]
  },
  {
   "cell_type": "code",
   "execution_count": 266,
   "id": "4a3a2d8d",
   "metadata": {},
   "outputs": [
    {
     "data": {
      "text/plain": [
       "Respondent            64461\n",
       "MainBranch            64162\n",
       "Hobbyist              64416\n",
       "Age                   45446\n",
       "Age1stCode            57900\n",
       "                      ...  \n",
       "WebframeWorkedWith    42279\n",
       "WelcomeChange         52683\n",
       "WorkWeekHrs           41151\n",
       "YearsCode             57684\n",
       "YearsCodePro          46349\n",
       "Length: 61, dtype: int64"
      ]
     },
     "execution_count": 266,
     "metadata": {},
     "output_type": "execute_result"
    }
   ],
   "source": [
    "sat_df=survey_raw_df[['JobSat',  'Employment', 'LanguageWorkedWith']]\n",
    "sat_df=sat_df[sat_df['Employment']=='Employed full-time'] \n",
    "sat_df=sat_df.dropna(axis=0)\n",
    "sat_df['LanguageWorkedWith']=sat_df['LanguageWorkedWith'].fillna('missing')\n",
    "sat_df.count()\n",
    "survey_raw_df.count()"
   ]
  },
  {
   "cell_type": "markdown",
   "id": "e66e779c",
   "metadata": {},
   "source": [
    "Interestingly, there are about **36793** responses for **64461** total people. So about **27668** are either not employed full time or did not answer. I think we still have a significant amount to deteremine an well represented answer. Only about **42%** of the data is missing and being employed full time means they are serious about coding, are fully commiteed and act professionial. Other factors and distractions could influence happiness, i.e. people not full time can take a break or enjoy other activities."
   ]
  },
  {
   "cell_type": "code",
   "execution_count": 268,
   "id": "41e68215",
   "metadata": {},
   "outputs": [
    {
     "data": {
      "text/plain": [
       "Very satisfied                        11853\n",
       "Slightly satisfied                    11479\n",
       "Slightly dissatisfied                  5950\n",
       "Neither satisfied nor dissatisfied     4512\n",
       "Very dissatisfied                      2999\n",
       "Name: JobSat, dtype: int64"
      ]
     },
     "execution_count": 268,
     "metadata": {},
     "output_type": "execute_result"
    }
   ],
   "source": [
    "sat_df.JobSat.value_counts()"
   ]
  },
  {
   "cell_type": "code",
   "execution_count": 271,
   "id": "1424c4ed",
   "metadata": {},
   "outputs": [
    {
     "data": {
      "image/png": "[encoded data removed]",
      "text/plain": [
       "<Figure size 864x576 with 1 Axes>"
      ]
     },
     "metadata": {},
     "output_type": "display_data"
    }
   ],
   "source": [
    "st_data=sat_df.JobSat.value_counts()\n",
    "\n",
    "plt.figure(figsize=(12,8))\n",
    "explode= (0,0,0,0,0.1)\n",
    "labels = ['Very satisfied', 'Slightly satisfied', 'Slightly dissatisfied', 'Neither satisfied nor dissatisfied','Very dissatisfied' ]\n",
    "plt.pie(st_data,explode=explode, labels =labels)\n",
    "circle = plt.Circle((0,0), 0.7, color='white')\n",
    "p=plt.gcf()\n",
    "p.gca().add_artist(circle)\n",
    "plt.title(\"Jab Satisfaction Distribution\" , fontsize=25,fontname='Franklin Gothic Medium')\n",
    "plt.show()"
   ]
  },
  {
   "cell_type": "markdown",
   "id": "5ca1cf22",
   "metadata": {},
   "source": [
    "# Question 3: What is the job satisfaction withparticular Language ?"
   ]
  },
  {
   "cell_type": "markdown",
   "id": "265f5131",
   "metadata": {},
   "source": [
    "# Question 4: Age & Gender  distribution of respondents ?"
   ]
  },
  {
   "cell_type": "markdown",
   "id": "f70e9954",
   "metadata": {},
   "source": [
    "# Question 5: Education & Field of study of respondents ?"
   ]
  },
  {
   "cell_type": "markdown",
   "id": "35076710",
   "metadata": {},
   "source": [
    "# Question 6: Most interested Language?"
   ]
  },
  {
   "cell_type": "markdown",
   "id": "1a819d9b",
   "metadata": {},
   "source": [
    "# Question 7 : Compensations & work works ?"
   ]
  },
  {
   "cell_type": "markdown",
   "id": "a4497c0a",
   "metadata": {},
   "source": [
    "#  Question 8 : Where do you live ?"
   ]
  },
  {
   "cell_type": "code",
   "execution_count": null,
   "id": "4e5cf9f3",
   "metadata": {},
   "outputs": [],
   "source": []
  },
  {
   "cell_type": "code",
   "execution_count": null,
   "id": "bee14adf",
   "metadata": {},
   "outputs": [],
   "source": []
  },
  {
   "cell_type": "code",
   "execution_count": null,
   "id": "e054d424",
   "metadata": {},
   "outputs": [],
   "source": []
  },
  {
   "cell_type": "code",
   "execution_count": null,
   "id": "ad2cd3c3",
   "metadata": {},
   "outputs": [],
   "source": []
  },
  {
   "cell_type": "code",
   "execution_count": null,
   "id": "411084b5",
   "metadata": {},
   "outputs": [],
   "source": []
  },
  {
   "cell_type": "code",
   "execution_count": null,
   "id": "dce4ea1a",
   "metadata": {},
   "outputs": [],
   "source": []
  },
  {
   "cell_type": "code",
   "execution_count": null,
   "id": "7a12763a",
   "metadata": {},
   "outputs": [],
   "source": []
  },
  {
   "cell_type": "code",
   "execution_count": null,
   "id": "1bd2c6c0",
   "metadata": {},
   "outputs": [],
   "source": []
  },
  {
   "cell_type": "code",
   "execution_count": null,
   "id": "17dafbb4",
   "metadata": {},
   "outputs": [],
   "source": []
  },
  {
   "cell_type": "code",
   "execution_count": null,
   "id": "73990363",
   "metadata": {},
   "outputs": [],
   "source": []
  },
  {
   "cell_type": "markdown",
   "id": "73ff8ed0",
   "metadata": {},
   "source": [
    "# Work in progress ......................."
   ]
  },
  {
   "cell_type": "code",
   "execution_count": null,
   "id": "ae037d61",
   "metadata": {},
   "outputs": [],
   "source": []
  },
  {
   "cell_type": "code",
   "execution_count": null,
   "id": "6aa66e3d",
   "metadata": {},
   "outputs": [],
   "source": []
  },
  {
   "cell_type": "code",
   "execution_count": null,
   "id": "2f8313a9",
   "metadata": {},
   "outputs": [],
   "source": []
  },
  {
   "cell_type": "code",
   "execution_count": null,
   "id": "4ceea786",
   "metadata": {},
   "outputs": [],
   "source": []
  },
  {
   "cell_type": "code",
   "execution_count": null,
   "id": "ab607a36",
   "metadata": {},
   "outputs": [],
   "source": []
  },
  {
   "cell_type": "code",
   "execution_count": null,
   "id": "486b5893",
   "metadata": {},
   "outputs": [],
   "source": []
  },
  {
   "cell_type": "code",
   "execution_count": null,
   "id": "8e48877f",
   "metadata": {},
   "outputs": [],
   "source": []
  },
  {
   "cell_type": "code",
   "execution_count": null,
   "id": "2dcce979",
   "metadata": {},
   "outputs": [],
   "source": []
  },
  {
   "cell_type": "code",
   "execution_count": null,
   "id": "28e17b02",
   "metadata": {},
   "outputs": [],
   "source": []
  },
  {
   "cell_type": "code",
   "execution_count": null,
   "id": "43e7964b",
   "metadata": {},
   "outputs": [],
   "source": []
  },
  {
   "cell_type": "code",
   "execution_count": null,
   "id": "cda3998e",
   "metadata": {},
   "outputs": [],
   "source": []
  },
  {
   "cell_type": "code",
   "execution_count": null,
   "id": "b5a4ec5d",
   "metadata": {},
   "outputs": [],
   "source": []
  },
  {
   "cell_type": "code",
   "execution_count": null,
   "id": "2df3bfe0",
   "metadata": {},
   "outputs": [],
   "source": []
  },
  {
   "cell_type": "code",
   "execution_count": null,
   "id": "baca386f",
   "metadata": {},
   "outputs": [],
   "source": []
  },
  {
   "cell_type": "code",
   "execution_count": 11,
   "id": "476e83ba",
   "metadata": {},
   "outputs": [
    {
     "data": {
      "text/plain": [
       "(64461, 61)"
      ]
     },
     "execution_count": 11,
     "metadata": {},
     "output_type": "execute_result"
    }
   ],
   "source": [
    "survey_raw_df.shape"
   ]
  },
  {
   "cell_type": "code",
   "execution_count": null,
   "id": "25d108ca",
   "metadata": {},
   "outputs": [],
   "source": []
  }
 ],
 "metadata": {
  "kernelspec": {
   "display_name": "Python 3",
   "language": "python",
   "name": "python3"
  },
  "language_info": {
   "codemirror_mode": {
    "name": "ipython",
    "version": 3
   },
   "file_extension": ".py",
   "mimetype": "text/x-python",
   "name": "python",
   "nbconvert_exporter": "python",
   "pygments_lexer": "ipython3",
   "version": "3.8.8"
  }
 },
 "nbformat": 4,
 "nbformat_minor": 5
}
